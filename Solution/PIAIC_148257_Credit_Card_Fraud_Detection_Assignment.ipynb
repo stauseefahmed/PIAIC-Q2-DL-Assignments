{
  "nbformat": 4,
  "nbformat_minor": 0,
  "metadata": {
    "kernelspec": {
      "display_name": "Python 3",
      "language": "python",
      "name": "python3"
    },
    "language_info": {
      "codemirror_mode": {
        "name": "ipython",
        "version": 3
      },
      "file_extension": ".py",
      "mimetype": "text/x-python",
      "name": "python",
      "nbconvert_exporter": "python",
      "pygments_lexer": "ipython3",
      "version": "3.7.3"
    },
    "colab": {
      "name": "PIAIC#148257_Credit Card Fraud Detection Assignment.ipynb",
      "provenance": [],
      "collapsed_sections": [],
      "toc_visible": true
    }
  },
  "cells": [
    {
      "cell_type": "markdown",
      "metadata": {
        "id": "iEq79_tAmK_O"
      },
      "source": [
        "# Credit Card Fraud Detection::"
      ]
    },
    {
      "cell_type": "markdown",
      "metadata": {
        "id": "XmpaDZ5mmK_U"
      },
      "source": [
        "Download dataset from this link:\n",
        "\n",
        "https://www.kaggle.com/mlg-ulb/creditcardfraud"
      ]
    },
    {
      "cell_type": "markdown",
      "metadata": {
        "id": "cSLN6D9lmK_W"
      },
      "source": [
        "# Description about dataset::"
      ]
    },
    {
      "cell_type": "markdown",
      "metadata": {
        "id": "haEAZ24imK_X"
      },
      "source": [
        "The datasets contains transactions made by credit cards in September 2013 by european cardholders.\n",
        "This dataset presents transactions that occurred in two days, where we have 492 frauds out of 284,807 transactions. The dataset is highly unbalanced, the positive class (frauds) account for 0.172% of all transactions.\n",
        "\n",
        "It contains only numerical input variables which are the result of a PCA transformation. Unfortunately, due to confidentiality issues, we cannot provide the original features and more background information about the data. Features V1, V2, … V28 are the principal components obtained with PCA, the only features which have not been transformed with PCA are 'Time' and 'Amount'. Feature 'Time' contains the seconds elapsed between each transaction and the first transaction in the dataset. The feature 'Amount' is the transaction Amount, this feature can be used for example-dependant cost-senstive learning. \n",
        "\n",
        "\n",
        "### Feature 'Class' is the response variable and it takes value 1 in case of fraud and 0 otherwise."
      ]
    },
    {
      "cell_type": "markdown",
      "metadata": {
        "id": "ra6YWf8vmK_l"
      },
      "source": [
        "# WORKFLOW :"
      ]
    },
    {
      "cell_type": "markdown",
      "metadata": {
        "id": "DsRcq22_mK_l"
      },
      "source": [
        "1.Load Data\n",
        "\n",
        "2.Check Missing Values ( If Exist ; Fill each record with mean of its feature )\n",
        "\n",
        "3.Standardized the Input Variables. \n",
        "\n",
        "4.Split into 50% Training(Samples,Labels) , 30% Test(Samples,Labels) and 20% Validation Data(Samples,Labels).\n",
        "\n",
        "5.Model : input Layer (No. of features ), 3 hidden layers including 10,8,6 unit & Output Layer with activation function relu/tanh (check by experiment).\n",
        "\n",
        "6.Compilation Step (Note : Its a Binary problem , select loss , metrics according to it)\n",
        "\n",
        "7.Train the Model with Epochs (100).\n",
        "\n",
        "8.If the model gets overfit tune your model by changing the units , No. of layers , epochs , add dropout layer or add Regularizer according to the need .\n",
        "\n",
        "9.Prediction should be > 92%\n",
        "10.Evaluation Step\n",
        "11Prediction\n"
      ]
    },
    {
      "cell_type": "markdown",
      "metadata": {
        "id": "PyJFvKVmmK_m"
      },
      "source": [
        "# Task::"
      ]
    },
    {
      "cell_type": "markdown",
      "metadata": {
        "id": "Wdoa_YWGmK_m"
      },
      "source": [
        "## Identify fraudulent credit card transactions."
      ]
    },
    {
      "cell_type": "code",
      "metadata": {
        "colab": {
          "resources": {
            "http://localhost:8080/nbextensions/google.colab/files.js": {
              "data": "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",
              "ok": true,
              "headers": [
                [
                  "content-type",
                  "application/javascript"
                ]
              ],
              "status": 200,
              "status_text": ""
            }
          },
          "base_uri": "https://localhost:8080/",
          "height": 72
        },
        "id": "jWl9xdfe8RbY",
        "outputId": "be4aa5a7-0fd9-445f-ce2b-5870bda9e4a4"
      },
      "source": [
        "from google.colab import files \n",
        "\n",
        "uploaded = files.upload()\n"
      ],
      "execution_count": 6,
      "outputs": [
        {
          "output_type": "display_data",
          "data": {
            "text/html": [
              "\n",
              "     <input type=\"file\" id=\"files-64c792d0-a6fd-427b-9a0a-e033c99d2928\" name=\"files[]\" multiple disabled\n",
              "        style=\"border:none\" />\n",
              "     <output id=\"result-64c792d0-a6fd-427b-9a0a-e033c99d2928\">\n",
              "      Upload widget is only available when the cell has been executed in the\n",
              "      current browser session. Please rerun this cell to enable.\n",
              "      </output>\n",
              "      <script src=\"/nbextensions/google.colab/files.js\"></script> "
            ],
            "text/plain": [
              "<IPython.core.display.HTML object>"
            ]
          },
          "metadata": {
            "tags": []
          }
        },
        {
          "output_type": "stream",
          "text": [
            "Saving creditcard.csv to creditcard (1).csv\n"
          ],
          "name": "stdout"
        }
      ]
    },
    {
      "cell_type": "code",
      "metadata": {
        "id": "VDe03R_GmK_n"
      },
      "source": [
        "import pandas as pd\n",
        "import numpy as np"
      ],
      "execution_count": 7,
      "outputs": []
    },
    {
      "cell_type": "code",
      "metadata": {
        "colab": {
          "base_uri": "https://localhost:8080/"
        },
        "id": "DXyNxNtWmK_n",
        "outputId": "c3f1af41-68cf-41e7-99c2-e41010d5eff7"
      },
      "source": [
        "dataframe = pd.read_csv('creditcard.csv')\n",
        "dataframe.shape"
      ],
      "execution_count": 8,
      "outputs": [
        {
          "output_type": "execute_result",
          "data": {
            "text/plain": [
              "(5052, 31)"
            ]
          },
          "metadata": {
            "tags": []
          },
          "execution_count": 8
        }
      ]
    },
    {
      "cell_type": "code",
      "metadata": {
        "colab": {
          "base_uri": "https://localhost:8080/"
        },
        "id": "ndtBBwdMAd0X",
        "outputId": "e9e1dcca-a082-4cbe-f857-351b341bc5aa"
      },
      "source": [
        "dataframe.isnull().any()"
      ],
      "execution_count": 9,
      "outputs": [
        {
          "output_type": "execute_result",
          "data": {
            "text/plain": [
              "Time      False\n",
              "V1        False\n",
              "V2        False\n",
              "V3        False\n",
              "V4        False\n",
              "V5        False\n",
              "V6        False\n",
              "V7        False\n",
              "V8        False\n",
              "V9        False\n",
              "V10       False\n",
              "V11       False\n",
              "V12       False\n",
              "V13       False\n",
              "V14        True\n",
              "V15        True\n",
              "V16        True\n",
              "V17        True\n",
              "V18        True\n",
              "V19        True\n",
              "V20        True\n",
              "V21        True\n",
              "V22        True\n",
              "V23        True\n",
              "V24        True\n",
              "V25        True\n",
              "V26        True\n",
              "V27        True\n",
              "V28        True\n",
              "Amount     True\n",
              "Class      True\n",
              "dtype: bool"
            ]
          },
          "metadata": {
            "tags": []
          },
          "execution_count": 9
        }
      ]
    },
    {
      "cell_type": "code",
      "metadata": {
        "colab": {
          "base_uri": "https://localhost:8080/",
          "height": 1000
        },
        "id": "FPZGYZx6mK_o",
        "outputId": "61436d1a-517a-499b-e9d8-9fde2e76a96c"
      },
      "source": [
        "dataframe.head().T"
      ],
      "execution_count": 10,
      "outputs": [
        {
          "output_type": "execute_result",
          "data": {
            "text/html": [
              "<div>\n",
              "<style scoped>\n",
              "    .dataframe tbody tr th:only-of-type {\n",
              "        vertical-align: middle;\n",
              "    }\n",
              "\n",
              "    .dataframe tbody tr th {\n",
              "        vertical-align: top;\n",
              "    }\n",
              "\n",
              "    .dataframe thead th {\n",
              "        text-align: right;\n",
              "    }\n",
              "</style>\n",
              "<table border=\"1\" class=\"dataframe\">\n",
              "  <thead>\n",
              "    <tr style=\"text-align: right;\">\n",
              "      <th></th>\n",
              "      <th>0</th>\n",
              "      <th>1</th>\n",
              "      <th>2</th>\n",
              "      <th>3</th>\n",
              "      <th>4</th>\n",
              "    </tr>\n",
              "  </thead>\n",
              "  <tbody>\n",
              "    <tr>\n",
              "      <th>Time</th>\n",
              "      <td>0.000000</td>\n",
              "      <td>0.000000</td>\n",
              "      <td>1.000000</td>\n",
              "      <td>1.000000</td>\n",
              "      <td>2.000000</td>\n",
              "    </tr>\n",
              "    <tr>\n",
              "      <th>V1</th>\n",
              "      <td>-1.359807</td>\n",
              "      <td>1.191857</td>\n",
              "      <td>-1.358354</td>\n",
              "      <td>-0.966272</td>\n",
              "      <td>-1.158233</td>\n",
              "    </tr>\n",
              "    <tr>\n",
              "      <th>V2</th>\n",
              "      <td>-0.072781</td>\n",
              "      <td>0.266151</td>\n",
              "      <td>-1.340163</td>\n",
              "      <td>-0.185226</td>\n",
              "      <td>0.877737</td>\n",
              "    </tr>\n",
              "    <tr>\n",
              "      <th>V3</th>\n",
              "      <td>2.536347</td>\n",
              "      <td>0.166480</td>\n",
              "      <td>1.773209</td>\n",
              "      <td>1.792993</td>\n",
              "      <td>1.548718</td>\n",
              "    </tr>\n",
              "    <tr>\n",
              "      <th>V4</th>\n",
              "      <td>1.378155</td>\n",
              "      <td>0.448154</td>\n",
              "      <td>0.379780</td>\n",
              "      <td>-0.863291</td>\n",
              "      <td>0.403034</td>\n",
              "    </tr>\n",
              "    <tr>\n",
              "      <th>V5</th>\n",
              "      <td>-0.338321</td>\n",
              "      <td>0.060018</td>\n",
              "      <td>-0.503198</td>\n",
              "      <td>-0.010309</td>\n",
              "      <td>-0.407193</td>\n",
              "    </tr>\n",
              "    <tr>\n",
              "      <th>V6</th>\n",
              "      <td>0.462388</td>\n",
              "      <td>-0.082361</td>\n",
              "      <td>1.800499</td>\n",
              "      <td>1.247203</td>\n",
              "      <td>0.095921</td>\n",
              "    </tr>\n",
              "    <tr>\n",
              "      <th>V7</th>\n",
              "      <td>0.239599</td>\n",
              "      <td>-0.078803</td>\n",
              "      <td>0.791461</td>\n",
              "      <td>0.237609</td>\n",
              "      <td>0.592941</td>\n",
              "    </tr>\n",
              "    <tr>\n",
              "      <th>V8</th>\n",
              "      <td>0.098698</td>\n",
              "      <td>0.085102</td>\n",
              "      <td>0.247676</td>\n",
              "      <td>0.377436</td>\n",
              "      <td>-0.270533</td>\n",
              "    </tr>\n",
              "    <tr>\n",
              "      <th>V9</th>\n",
              "      <td>0.363787</td>\n",
              "      <td>-0.255425</td>\n",
              "      <td>-1.514654</td>\n",
              "      <td>-1.387024</td>\n",
              "      <td>0.817739</td>\n",
              "    </tr>\n",
              "    <tr>\n",
              "      <th>V10</th>\n",
              "      <td>0.090794</td>\n",
              "      <td>-0.166974</td>\n",
              "      <td>0.207643</td>\n",
              "      <td>-0.054952</td>\n",
              "      <td>0.753074</td>\n",
              "    </tr>\n",
              "    <tr>\n",
              "      <th>V11</th>\n",
              "      <td>-0.551600</td>\n",
              "      <td>1.612727</td>\n",
              "      <td>0.624501</td>\n",
              "      <td>-0.226487</td>\n",
              "      <td>-0.822843</td>\n",
              "    </tr>\n",
              "    <tr>\n",
              "      <th>V12</th>\n",
              "      <td>-0.617801</td>\n",
              "      <td>1.065235</td>\n",
              "      <td>0.066084</td>\n",
              "      <td>0.178228</td>\n",
              "      <td>0.538196</td>\n",
              "    </tr>\n",
              "    <tr>\n",
              "      <th>V13</th>\n",
              "      <td>-0.991390</td>\n",
              "      <td>0.489095</td>\n",
              "      <td>0.717293</td>\n",
              "      <td>0.507757</td>\n",
              "      <td>1.345852</td>\n",
              "    </tr>\n",
              "    <tr>\n",
              "      <th>V14</th>\n",
              "      <td>-0.311169</td>\n",
              "      <td>-0.143772</td>\n",
              "      <td>-0.165946</td>\n",
              "      <td>-0.287924</td>\n",
              "      <td>-1.119670</td>\n",
              "    </tr>\n",
              "    <tr>\n",
              "      <th>V15</th>\n",
              "      <td>1.468177</td>\n",
              "      <td>0.635558</td>\n",
              "      <td>2.345865</td>\n",
              "      <td>-0.631418</td>\n",
              "      <td>0.175121</td>\n",
              "    </tr>\n",
              "    <tr>\n",
              "      <th>V16</th>\n",
              "      <td>-0.470401</td>\n",
              "      <td>0.463917</td>\n",
              "      <td>-2.890083</td>\n",
              "      <td>-1.059647</td>\n",
              "      <td>-0.451449</td>\n",
              "    </tr>\n",
              "    <tr>\n",
              "      <th>V17</th>\n",
              "      <td>0.207971</td>\n",
              "      <td>-0.114805</td>\n",
              "      <td>1.109969</td>\n",
              "      <td>-0.684093</td>\n",
              "      <td>-0.237033</td>\n",
              "    </tr>\n",
              "    <tr>\n",
              "      <th>V18</th>\n",
              "      <td>0.025791</td>\n",
              "      <td>-0.183361</td>\n",
              "      <td>-0.121359</td>\n",
              "      <td>1.965775</td>\n",
              "      <td>-0.038195</td>\n",
              "    </tr>\n",
              "    <tr>\n",
              "      <th>V19</th>\n",
              "      <td>0.403993</td>\n",
              "      <td>-0.145783</td>\n",
              "      <td>-2.261857</td>\n",
              "      <td>-1.232622</td>\n",
              "      <td>0.803487</td>\n",
              "    </tr>\n",
              "    <tr>\n",
              "      <th>V20</th>\n",
              "      <td>0.251412</td>\n",
              "      <td>-0.069083</td>\n",
              "      <td>0.524980</td>\n",
              "      <td>-0.208038</td>\n",
              "      <td>0.408542</td>\n",
              "    </tr>\n",
              "    <tr>\n",
              "      <th>V21</th>\n",
              "      <td>-0.018307</td>\n",
              "      <td>-0.225775</td>\n",
              "      <td>0.247998</td>\n",
              "      <td>-0.108300</td>\n",
              "      <td>-0.009431</td>\n",
              "    </tr>\n",
              "    <tr>\n",
              "      <th>V22</th>\n",
              "      <td>0.277838</td>\n",
              "      <td>-0.638672</td>\n",
              "      <td>0.771679</td>\n",
              "      <td>0.005274</td>\n",
              "      <td>0.798278</td>\n",
              "    </tr>\n",
              "    <tr>\n",
              "      <th>V23</th>\n",
              "      <td>-0.110474</td>\n",
              "      <td>0.101288</td>\n",
              "      <td>0.909412</td>\n",
              "      <td>-0.190321</td>\n",
              "      <td>-0.137458</td>\n",
              "    </tr>\n",
              "    <tr>\n",
              "      <th>V24</th>\n",
              "      <td>0.066928</td>\n",
              "      <td>-0.339846</td>\n",
              "      <td>-0.689281</td>\n",
              "      <td>-1.175575</td>\n",
              "      <td>0.141267</td>\n",
              "    </tr>\n",
              "    <tr>\n",
              "      <th>V25</th>\n",
              "      <td>0.128539</td>\n",
              "      <td>0.167170</td>\n",
              "      <td>-0.327642</td>\n",
              "      <td>0.647376</td>\n",
              "      <td>-0.206010</td>\n",
              "    </tr>\n",
              "    <tr>\n",
              "      <th>V26</th>\n",
              "      <td>-0.189115</td>\n",
              "      <td>0.125895</td>\n",
              "      <td>-0.139097</td>\n",
              "      <td>-0.221929</td>\n",
              "      <td>0.502292</td>\n",
              "    </tr>\n",
              "    <tr>\n",
              "      <th>V27</th>\n",
              "      <td>0.133558</td>\n",
              "      <td>-0.008983</td>\n",
              "      <td>-0.055353</td>\n",
              "      <td>0.062723</td>\n",
              "      <td>0.219422</td>\n",
              "    </tr>\n",
              "    <tr>\n",
              "      <th>V28</th>\n",
              "      <td>-0.021053</td>\n",
              "      <td>0.014724</td>\n",
              "      <td>-0.059752</td>\n",
              "      <td>0.061458</td>\n",
              "      <td>0.215153</td>\n",
              "    </tr>\n",
              "    <tr>\n",
              "      <th>Amount</th>\n",
              "      <td>149.620000</td>\n",
              "      <td>2.690000</td>\n",
              "      <td>378.660000</td>\n",
              "      <td>123.500000</td>\n",
              "      <td>69.990000</td>\n",
              "    </tr>\n",
              "    <tr>\n",
              "      <th>Class</th>\n",
              "      <td>0.000000</td>\n",
              "      <td>0.000000</td>\n",
              "      <td>0.000000</td>\n",
              "      <td>0.000000</td>\n",
              "      <td>0.000000</td>\n",
              "    </tr>\n",
              "  </tbody>\n",
              "</table>\n",
              "</div>"
            ],
            "text/plain": [
              "                 0         1           2           3          4\n",
              "Time      0.000000  0.000000    1.000000    1.000000   2.000000\n",
              "V1       -1.359807  1.191857   -1.358354   -0.966272  -1.158233\n",
              "V2       -0.072781  0.266151   -1.340163   -0.185226   0.877737\n",
              "V3        2.536347  0.166480    1.773209    1.792993   1.548718\n",
              "V4        1.378155  0.448154    0.379780   -0.863291   0.403034\n",
              "V5       -0.338321  0.060018   -0.503198   -0.010309  -0.407193\n",
              "V6        0.462388 -0.082361    1.800499    1.247203   0.095921\n",
              "V7        0.239599 -0.078803    0.791461    0.237609   0.592941\n",
              "V8        0.098698  0.085102    0.247676    0.377436  -0.270533\n",
              "V9        0.363787 -0.255425   -1.514654   -1.387024   0.817739\n",
              "V10       0.090794 -0.166974    0.207643   -0.054952   0.753074\n",
              "V11      -0.551600  1.612727    0.624501   -0.226487  -0.822843\n",
              "V12      -0.617801  1.065235    0.066084    0.178228   0.538196\n",
              "V13      -0.991390  0.489095    0.717293    0.507757   1.345852\n",
              "V14      -0.311169 -0.143772   -0.165946   -0.287924  -1.119670\n",
              "V15       1.468177  0.635558    2.345865   -0.631418   0.175121\n",
              "V16      -0.470401  0.463917   -2.890083   -1.059647  -0.451449\n",
              "V17       0.207971 -0.114805    1.109969   -0.684093  -0.237033\n",
              "V18       0.025791 -0.183361   -0.121359    1.965775  -0.038195\n",
              "V19       0.403993 -0.145783   -2.261857   -1.232622   0.803487\n",
              "V20       0.251412 -0.069083    0.524980   -0.208038   0.408542\n",
              "V21      -0.018307 -0.225775    0.247998   -0.108300  -0.009431\n",
              "V22       0.277838 -0.638672    0.771679    0.005274   0.798278\n",
              "V23      -0.110474  0.101288    0.909412   -0.190321  -0.137458\n",
              "V24       0.066928 -0.339846   -0.689281   -1.175575   0.141267\n",
              "V25       0.128539  0.167170   -0.327642    0.647376  -0.206010\n",
              "V26      -0.189115  0.125895   -0.139097   -0.221929   0.502292\n",
              "V27       0.133558 -0.008983   -0.055353    0.062723   0.219422\n",
              "V28      -0.021053  0.014724   -0.059752    0.061458   0.215153\n",
              "Amount  149.620000  2.690000  378.660000  123.500000  69.990000\n",
              "Class     0.000000  0.000000    0.000000    0.000000   0.000000"
            ]
          },
          "metadata": {
            "tags": []
          },
          "execution_count": 10
        }
      ]
    },
    {
      "cell_type": "code",
      "metadata": {
        "id": "A_tN82NRmK_o"
      },
      "source": [
        "dataframe_shuffled = pd.DataFrame(np.random.permutation(dataframe), columns = dataframe.columns)"
      ],
      "execution_count": 11,
      "outputs": []
    },
    {
      "cell_type": "code",
      "metadata": {
        "id": "KAzFOl-VmK_p"
      },
      "source": [
        "target_labels = dataframe_shuffled['Class'].copy()"
      ],
      "execution_count": 12,
      "outputs": []
    },
    {
      "cell_type": "code",
      "metadata": {
        "id": "2WiD9yp9mK_p"
      },
      "source": [
        "data = dataframe_shuffled.drop('Class', axis = 1).copy()"
      ],
      "execution_count": 13,
      "outputs": []
    },
    {
      "cell_type": "code",
      "metadata": {
        "id": "Dh0GH42XmK_q"
      },
      "source": [
        "\n",
        "\n",
        "train_len = len(dataframe)*7//10\n",
        "test_len = len(dataframe) - train_len"
      ],
      "execution_count": 14,
      "outputs": []
    },
    {
      "cell_type": "code",
      "metadata": {
        "id": "5uhqrPGlmK_q"
      },
      "source": [
        "train_data = data[0 : train_len].copy()\n",
        "test_data = data[train_len : train_len + test_len].copy()"
      ],
      "execution_count": 15,
      "outputs": []
    },
    {
      "cell_type": "code",
      "metadata": {
        "id": "a32T3YlvmK_r"
      },
      "source": [
        "train_labels = target_labels[0 : train_len].copy()\n",
        "test_labels = target_labels[train_len : train_len + test_len].copy()"
      ],
      "execution_count": 16,
      "outputs": []
    },
    {
      "cell_type": "code",
      "metadata": {
        "id": "KEOkqMIXmK_r"
      },
      "source": [
        "\n",
        "\n",
        "mean = np.mean(train_data, axis = 0)\n",
        "std = np.std(train_data, axis = 0)\n",
        "\n",
        "train_data -= mean\n",
        "train_data /= std\n",
        "\n",
        "test_data -= mean\n",
        "test_data /= std"
      ],
      "execution_count": 17,
      "outputs": []
    },
    {
      "cell_type": "code",
      "metadata": {
        "id": "rgBNXI8PB81j"
      },
      "source": [
        "train_data = np.array(train_data).astype('float32')\n",
        "train_labels = np.array(train_labels).astype('float32')"
      ],
      "execution_count": 18,
      "outputs": []
    },
    {
      "cell_type": "code",
      "metadata": {
        "id": "eM36jY5RB87y"
      },
      "source": [
        "test_data = np.array(test_data).astype('float32')\n",
        "test_labels = np.array(test_labels).astype('float32')"
      ],
      "execution_count": 19,
      "outputs": []
    },
    {
      "cell_type": "code",
      "metadata": {
        "id": "JKymolMkB8_t"
      },
      "source": [
        "len_partial_train = len(dataframe)*5//10\n",
        "len_validation = train_len - len_partial_train\n"
      ],
      "execution_count": 20,
      "outputs": []
    },
    {
      "cell_type": "code",
      "metadata": {
        "id": "s3_cYf6SCJqF"
      },
      "source": [
        "partial_train_data = train_data[0 : len_partial_train].copy()\n",
        "val_data = train_data[len_partial_train : ].copy()"
      ],
      "execution_count": 21,
      "outputs": []
    },
    {
      "cell_type": "code",
      "metadata": {
        "id": "KxeLxDgiCJwN"
      },
      "source": [
        "partial_train_labels = train_labels[0 : len_partial_train].copy()\n",
        "val_labels = train_labels[len_partial_train : ].copy()"
      ],
      "execution_count": 22,
      "outputs": []
    },
    {
      "cell_type": "code",
      "metadata": {
        "colab": {
          "base_uri": "https://localhost:8080/"
        },
        "id": "-qNZcu1QmK_r",
        "outputId": "efd668e3-b97d-487e-dee8-7fcdce193cd4"
      },
      "source": [
        "partial_train_data.shape"
      ],
      "execution_count": 23,
      "outputs": [
        {
          "output_type": "execute_result",
          "data": {
            "text/plain": [
              "(2526, 30)"
            ]
          },
          "metadata": {
            "tags": []
          },
          "execution_count": 23
        }
      ]
    },
    {
      "cell_type": "code",
      "metadata": {
        "colab": {
          "base_uri": "https://localhost:8080/"
        },
        "id": "wKAWiGO1mK_r",
        "outputId": "bee2ead7-ed1f-444f-e715-2b9ee841d417"
      },
      "source": [
        "data.shape"
      ],
      "execution_count": 24,
      "outputs": [
        {
          "output_type": "execute_result",
          "data": {
            "text/plain": [
              "(5052, 30)"
            ]
          },
          "metadata": {
            "tags": []
          },
          "execution_count": 24
        }
      ]
    },
    {
      "cell_type": "code",
      "metadata": {
        "colab": {
          "base_uri": "https://localhost:8080/"
        },
        "id": "i6SCSab2CcyI",
        "outputId": "d78b4c46-0c9f-47ad-a191-b6bd86be0ff7"
      },
      "source": [
        "train_data.shape"
      ],
      "execution_count": 25,
      "outputs": [
        {
          "output_type": "execute_result",
          "data": {
            "text/plain": [
              "(3536, 30)"
            ]
          },
          "metadata": {
            "tags": []
          },
          "execution_count": 25
        }
      ]
    },
    {
      "cell_type": "code",
      "metadata": {
        "id": "SiKA41kXCfE4"
      },
      "source": [
        "from keras import models \n",
        "from keras import layers\n",
        "from keras import regularizers\n",
        "\n",
        "modelCr = models.Sequential()\n",
        "\n",
        "modelCr.add(layers.Dense(32, activation = 'relu', input_shape = (train_data.shape[-1],)))\n",
        "\n",
        "modelCr.add(layers.Dense(10, activation = 'relu'))\n",
        "\n",
        "modelCr.add(layers.Dense(8, activation = 'relu'))\n",
        "\n",
        "modelCr.add(layers.Dense(6, activation = 'relu'))\n",
        "\n",
        "modelCr.add(layers.Dense(1, activation = 'sigmoid'))"
      ],
      "execution_count": 26,
      "outputs": []
    },
    {
      "cell_type": "code",
      "metadata": {
        "id": "drKiV9ltEHCr"
      },
      "source": [
        "from keras import metrics\n",
        "import tensorflow as tf\n",
        "import keras\n",
        "\n",
        "\n",
        "modelCr.compile(optimizer='rmsprop',\n",
        "              loss='binary_crossentropy',\n",
        "              metrics=['accuracy'])"
      ],
      "execution_count": 28,
      "outputs": []
    },
    {
      "cell_type": "code",
      "metadata": {
        "colab": {
          "base_uri": "https://localhost:8080/"
        },
        "id": "GPj9_qeAJCBz",
        "outputId": "df34e2ea-1db2-4b12-8be5-4f4de892700d"
      },
      "source": [
        "modelCr.summary()"
      ],
      "execution_count": 29,
      "outputs": [
        {
          "output_type": "stream",
          "text": [
            "Model: \"sequential\"\n",
            "_________________________________________________________________\n",
            "Layer (type)                 Output Shape              Param #   \n",
            "=================================================================\n",
            "dense (Dense)                (None, 32)                992       \n",
            "_________________________________________________________________\n",
            "dense_1 (Dense)              (None, 10)                330       \n",
            "_________________________________________________________________\n",
            "dense_2 (Dense)              (None, 8)                 88        \n",
            "_________________________________________________________________\n",
            "dense_3 (Dense)              (None, 6)                 54        \n",
            "_________________________________________________________________\n",
            "dense_4 (Dense)              (None, 1)                 7         \n",
            "=================================================================\n",
            "Total params: 1,471\n",
            "Trainable params: 1,471\n",
            "Non-trainable params: 0\n",
            "_________________________________________________________________\n"
          ],
          "name": "stdout"
        }
      ]
    },
    {
      "cell_type": "code",
      "metadata": {
        "colab": {
          "base_uri": "https://localhost:8080/"
        },
        "id": "WnTbl6V-ENsY",
        "outputId": "b729bc12-1f03-46d2-9142-3d53d64ed619"
      },
      "source": [
        "modelCr.fit(partial_train_data,\n",
        "            partial_train_labels,\n",
        "            epochs = 20,\n",
        "            batch_size = 512,\n",
        "            verbose = 1,\n",
        "            validation_data = (val_data,val_labels))"
      ],
      "execution_count": 30,
      "outputs": [
        {
          "output_type": "stream",
          "text": [
            "Epoch 1/20\n",
            "5/5 [==============================] - 1s 104ms/step - loss: 0.8304 - accuracy: 0.0024 - val_loss: nan - val_accuracy: 0.0158\n",
            "Epoch 2/20\n",
            "5/5 [==============================] - 0s 13ms/step - loss: 0.7689 - accuracy: 0.0271 - val_loss: nan - val_accuracy: 0.0960\n",
            "Epoch 3/20\n",
            "5/5 [==============================] - 0s 11ms/step - loss: 0.7385 - accuracy: 0.1251 - val_loss: nan - val_accuracy: 0.2297\n",
            "Epoch 4/20\n",
            "5/5 [==============================] - 0s 13ms/step - loss: 0.7209 - accuracy: 0.2809 - val_loss: nan - val_accuracy: 0.3842\n",
            "Epoch 5/20\n",
            "5/5 [==============================] - 0s 12ms/step - loss: 0.7062 - accuracy: 0.4491 - val_loss: nan - val_accuracy: 0.5376\n",
            "Epoch 6/20\n",
            "5/5 [==============================] - 0s 13ms/step - loss: 0.6945 - accuracy: 0.5960 - val_loss: nan - val_accuracy: 0.6851\n",
            "Epoch 7/20\n",
            "5/5 [==============================] - 0s 12ms/step - loss: 0.6859 - accuracy: 0.7354 - val_loss: nan - val_accuracy: 0.8228\n",
            "Epoch 8/20\n",
            "5/5 [==============================] - 0s 12ms/step - loss: 0.6779 - accuracy: 0.8499 - val_loss: nan - val_accuracy: 0.8941\n",
            "Epoch 9/20\n",
            "5/5 [==============================] - 0s 13ms/step - loss: 0.6697 - accuracy: 0.9293 - val_loss: nan - val_accuracy: 0.9366\n",
            "Epoch 10/20\n",
            "5/5 [==============================] - 0s 13ms/step - loss: 0.6633 - accuracy: 0.9514 - val_loss: nan - val_accuracy: 0.9743\n",
            "Epoch 11/20\n",
            "5/5 [==============================] - 0s 12ms/step - loss: 0.6565 - accuracy: 0.9741 - val_loss: nan - val_accuracy: 0.9921\n",
            "Epoch 12/20\n",
            "5/5 [==============================] - 0s 15ms/step - loss: 0.6500 - accuracy: 0.9860 - val_loss: nan - val_accuracy: 0.9941\n",
            "Epoch 13/20\n",
            "5/5 [==============================] - 0s 14ms/step - loss: 0.6438 - accuracy: 0.9972 - val_loss: nan - val_accuracy: 0.9950\n",
            "Epoch 14/20\n",
            "5/5 [==============================] - 0s 12ms/step - loss: 0.6378 - accuracy: 0.9963 - val_loss: nan - val_accuracy: 0.9960\n",
            "Epoch 15/20\n",
            "5/5 [==============================] - 0s 11ms/step - loss: 0.6313 - accuracy: 0.9979 - val_loss: nan - val_accuracy: 0.9960\n",
            "Epoch 16/20\n",
            "5/5 [==============================] - 0s 12ms/step - loss: 0.6248 - accuracy: 0.9992 - val_loss: nan - val_accuracy: 0.9970\n",
            "Epoch 17/20\n",
            "5/5 [==============================] - 0s 11ms/step - loss: 0.6178 - accuracy: 0.9979 - val_loss: nan - val_accuracy: 0.9960\n",
            "Epoch 18/20\n",
            "5/5 [==============================] - 0s 12ms/step - loss: 0.6087 - accuracy: 0.9992 - val_loss: nan - val_accuracy: 0.9970\n",
            "Epoch 19/20\n",
            "5/5 [==============================] - 0s 12ms/step - loss: 0.5975 - accuracy: 0.9999 - val_loss: nan - val_accuracy: 0.9970\n",
            "Epoch 20/20\n",
            "5/5 [==============================] - 0s 13ms/step - loss: 0.5835 - accuracy: 0.9997 - val_loss: nan - val_accuracy: 0.9970\n"
          ],
          "name": "stdout"
        },
        {
          "output_type": "execute_result",
          "data": {
            "text/plain": [
              "<tensorflow.python.keras.callbacks.History at 0x7fbd613ee7d0>"
            ]
          },
          "metadata": {
            "tags": []
          },
          "execution_count": 30
        }
      ]
    },
    {
      "cell_type": "code",
      "metadata": {
        "colab": {
          "base_uri": "https://localhost:8080/"
        },
        "id": "O7m5P8dqEiKp",
        "outputId": "6690d539-1f5b-4014-df78-13e58666d580"
      },
      "source": [
        "\n",
        "modelCr = models.Sequential()\n",
        "\n",
        "modelCr.add(layers.Dense(32, activation = 'relu', input_shape = (train_data.shape[-1],)))\n",
        "\n",
        "modelCr.add(layers.Dense(10, activation = 'relu'))\n",
        "modelCr.add(layers.Dense(8, activation = 'relu'))\n",
        "modelCr.add(layers.Dense(6, activation = 'relu'))\n",
        "\n",
        "modelCr.add(layers.Dense(1, activation = 'sigmoid'))\n",
        "\n",
        "\n",
        "modelCr.compile(optimizer = 'rmsprop',\n",
        "                loss = 'binary_crossentropy',\n",
        "                metrics = ['accuracy'])\n",
        "\n",
        "modelCr.fit(train_data, train_labels, epochs = 5, batch_size = 512, verbose = 0)\n",
        "\n",
        "modelCr.evaluate(test_data, test_labels)"
      ],
      "execution_count": 31,
      "outputs": [
        {
          "output_type": "stream",
          "text": [
            "48/48 [==============================] - 0s 969us/step - loss: nan - accuracy: 0.9993\n"
          ],
          "name": "stdout"
        },
        {
          "output_type": "execute_result",
          "data": {
            "text/plain": [
              "[nan, 0.9993403553962708]"
            ]
          },
          "metadata": {
            "tags": []
          },
          "execution_count": 31
        }
      ]
    }
  ]
}